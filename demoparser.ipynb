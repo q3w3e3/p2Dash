{
 "cells": [
  {
   "cell_type": "markdown",
   "metadata": {},
   "source": [
    "The below is the start of a demo parser and DB toolinng for construction of a dashboard for collections of Portal 2 demos... it might work for other HL2DEMO too... but who knows! I sure as hell dont!"
   ]
  },
  {
   "cell_type": "code",
   "execution_count": 1,
   "metadata": {},
   "outputs": [
    {
     "name": "stderr",
     "output_type": "stream",
     "text": [
      "\u001b[32m\u001b[1m   Updating\u001b[22m\u001b[39m registry at `~/.julia/registries/General`\n"
     ]
    },
    {
     "name": "stderr",
     "output_type": "stream",
     "text": [
      "\u001b[32m\u001b[1m   Updating\u001b[22m\u001b[39m "
     ]
    },
    {
     "name": "stdout",
     "output_type": "stream",
     "text": [
      "\u001b[?25l    "
     ]
    },
    {
     "name": "stderr",
     "output_type": "stream",
     "text": [
      "git-repo `https://github.com/JuliaRegistries/General.git`\n"
     ]
    },
    {
     "name": "stdout",
     "output_type": "stream",
     "text": [
      "\u001b[36m\u001b[1mFetching:\u001b[22m\u001b[39m [>                                        ]  0.0 %\r"
     ]
    },
    {
     "name": "stdout",
     "output_type": "stream",
     "text": [
      "\u001b[2K\u001b[?25h"
     ]
    },
    {
     "name": "stderr",
     "output_type": "stream",
     "text": [
      "\u001b[32m\u001b[1m  Resolving\u001b[22m\u001b[39m package versions...\n"
     ]
    },
    {
     "name": "stderr",
     "output_type": "stream",
     "text": [
      "\u001b[32m\u001b[1m   Updating\u001b[22m\u001b[39m `~/.julia/environments/v1.4/Project.toml`\n",
      "\u001b[90m [no changes]\u001b[39m\n",
      "\u001b[32m\u001b[1m   Updating\u001b[22m\u001b[39m `~/.julia/environments/v1.4/Manifest.toml`\n",
      "\u001b[90m [no changes]\u001b[39m\n"
     ]
    },
    {
     "name": "stderr",
     "output_type": "stream",
     "text": [
      "\u001b[32m\u001b[1m  Resolving\u001b[22m\u001b[39m package versions...\n",
      "\u001b[32m\u001b[1m   Updating\u001b[22m\u001b[39m `~/.julia/environments/v1.4/Project.toml`\n",
      "\u001b[90m [no changes]\u001b[39m\n",
      "\u001b[32m\u001b[1m   Updating\u001b[22m\u001b[39m `~/.julia/environments/v1.4/Manifest.toml`\n",
      "\u001b[90m [no changes]\u001b[39m\n",
      "\u001b[32m\u001b[1m  Resolving\u001b[22m\u001b[39m package versions...\n"
     ]
    },
    {
     "name": "stderr",
     "output_type": "stream",
     "text": [
      "\u001b[32m\u001b[1m   Updating\u001b[22m\u001b[39m `~/.julia/environments/v1.4/Project.toml`\n",
      "\u001b[90m [no changes]\u001b[39m\n",
      "\u001b[32m\u001b[1m   Updating\u001b[22m\u001b[39m `~/.julia/environments/v1.4/Manifest.toml`\n",
      "\u001b[90m [no changes]\u001b[39m\n",
      "\u001b[32m\u001b[1m  Resolving\u001b[22m\u001b[39m package versions...\n",
      "\u001b[32m\u001b[1m   Updating\u001b[22m\u001b[39m `~/.julia/environments/v1.4/Project.toml`\n",
      "\u001b[90m [no changes]\u001b[39m\n",
      "\u001b[32m\u001b[1m   Updating\u001b[22m\u001b[39m `~/.julia/environments/v1.4/Manifest.toml`\n",
      "\u001b[90m [no changes]\u001b[39m\n",
      "\u001b[32m\u001b[1m  Resolving\u001b[22m\u001b[39m package versions...\n"
     ]
    },
    {
     "name": "stderr",
     "output_type": "stream",
     "text": [
      "\u001b[32m\u001b[1m   Updating\u001b[22m\u001b[39m `~/.julia/environments/v1.4/Project.toml`\n",
      "\u001b[90m [no changes]\u001b[39m\n",
      "\u001b[32m\u001b[1m   Updating\u001b[22m\u001b[39m `~/.julia/environments/v1.4/Manifest.toml`\n",
      "\u001b[90m [no changes]\u001b[39m\n"
     ]
    }
   ],
   "source": [
    "using Pkg\n",
    "Pkg.add(\"SQLite\")\n",
    "Pkg.add(\"DBInterface\")\n",
    "Pkg.add(\"Tables\")\n",
    "Pkg.add(\"DataStructures\")\n",
    "Pkg.add(\"DataFrames\")"
   ]
  },
  {
   "cell_type": "code",
   "execution_count": 2,
   "metadata": {},
   "outputs": [],
   "source": [
    "using SQLite\n",
    "using DBInterface\n",
    "using Tables\n",
    "using DataStructures\n",
    "using DataFrames"
   ]
  },
  {
   "cell_type": "code",
   "execution_count": 1,
   "metadata": {},
   "outputs": [
    {
     "data": {
      "text/plain": [
       "getDemos (generic function with 1 method)"
      ]
     },
     "metadata": {},
     "output_type": "display_data"
    }
   ],
   "source": [
    "function getDemos(path::AbstractString)\n",
    "    run(`rsync -a rsync://board.portal2.sr:/demos/ $path`)\n",
    "end"
   ]
  },
  {
   "cell_type": "markdown",
   "metadata": {},
   "source": [
    "This next block is just for my testing in notebook... "
   ]
  },
  {
   "cell_type": "code",
   "execution_count": 2,
   "metadata": {},
   "outputs": [
    {
     "data": {
      "text/plain": [
       "Process(`\u001b[4mrsync\u001b[24m \u001b[4m-a\u001b[24m \u001b[4mrsync://board.portal2.sr:/demos/\u001b[24m \u001b[4m/mnt/g/p2demos\u001b[24m`, ProcessExited(0))"
      ]
     },
     "metadata": {},
     "output_type": "display_data"
    }
   ],
   "source": [
    "#### this is just where im putting mine while playing with this stuff\n",
    "getDemos(\"/mnt/g/p2demos\")"
   ]
  },
  {
   "cell_type": "code",
   "execution_count": 3,
   "metadata": {},
   "outputs": [
    {
     "ename": "UndefVarError",
     "evalue": "UndefVarError: SQLite not defined",
     "output_type": "error",
     "traceback": [
      "UndefVarError: SQLite not defined\n",
      "\n",
      "Stacktrace:\n",
      " [1] top-level scope at /mnt/g/p2dash/demoparser.ipynb:3\n",
      " [2] include_string(::Module, ::String, ::String) at ./loading.jl:1080\n",
      " [3] #invokelatest#1 at ./essentials.jl:712 [inlined]\n",
      " [4] invokelatest at ./essentials.jl:711 [inlined]\n",
      " [5] (::VSCodeServer.var\"#160#161\"{VSCodeServer.NotebookRunCellArguments,String})() at /home/q3w3e3/.vscode-server/extensions/julialang.language-julia-1.6.17/scripts/packages/VSCodeServer/src/serve_notebook.jl:19\n",
      " [6] withpath(::VSCodeServer.var\"#160#161\"{VSCodeServer.NotebookRunCellArguments,String}, ::String) at /home/q3w3e3/.vscode-server/extensions/julialang.language-julia-1.6.17/scripts/packages/VSCodeServer/src/repl.jl:184\n",
      " [7] notebook_runcell_request(::VSCodeServer.JSONRPC.JSONRPCEndpoint{Base.PipeEndpoint,Base.PipeEndpoint}, ::VSCodeServer.NotebookRunCellArguments) at /home/q3w3e3/.vscode-server/extensions/julialang.language-julia-1.6.17/scripts/packages/VSCodeServer/src/serve_notebook.jl:13\n",
      " [8] dispatch_msg(::VSCodeServer.JSONRPC.JSONRPCEndpoint{Base.PipeEndpoint,Base.PipeEndpoint}, ::VSCodeServer.JSONRPC.MsgDispatcher, ::Dict{String,Any}) at /home/q3w3e3/.vscode-server/extensions/julialang.language-julia-1.6.17/scripts/packages/JSONRPC/src/typed.jl:67\n",
      " [9] serve_notebook(::String, ::Base.CoreLogging.SimpleLogger; crashreporting_pipename::String) at /home/q3w3e3/.vscode-server/extensions/julialang.language-julia-1.6.17/scripts/packages/VSCodeServer/src/serve_notebook.jl:136\n",
      " [10] top-level scope at /home/q3w3e3/.vscode-server/extensions/julialang.language-julia-1.6.17/scripts/notebook/notebook.jl:32\n",
      " [11] include(::Module, ::String) at ./Base.jl:377\n",
      " [12] exec_options(::Base.JLOptions) at ./client.jl:288\n",
      " [13] _start() at ./client.jl:484"
     ]
    }
   ],
   "source": [
    "### LOL LMAO PLEASE DO THIS PROPERLY IN FUTURE\n",
    "\n",
    "db = SQLite.DB(\"testDB.db\")\n",
    "\n",
    "### Dont worry about it :)\n",
    "#DBInterface.execute(db, \"DROP TABLE IF EXISTS HEADERS\")\n",
    "\n",
    "DBInterface.execute(\n",
    "    db,\n",
    "    \"CREATE TABLE IF NOT EXISTS HEADERS(\n",
    "    ID INTEGER PRIMARY KEY AUTOINCREMENT,\n",
    "    DEMONAME TEXT NOT NULL,\n",
    "    DEMOPROTOCOL INT NOT NULL,\n",
    "    NETWORKPROTOCOL INT NOT NULL,\n",
    "    SERVERNAME TEXT NOT NULL,\n",
    "    CLIENTNAME TEXT NOT NULL,\n",
    "    MAPNAME TEXT NOT NULL,\n",
    "    GAMEDIRECTORY TEXT NOT NULL,\n",
    "    PLAYBACKTIME REAL NOT NULL,\n",
    "    TICKS INT NOT NULL,\n",
    "    FRAMES INT NOT NULL,\n",
    "    SIGNONLENGTH INT NOT NULL,\n",
    "    TICKRATE REAL NOT NULL,\n",
    "    STEAMID INT NOT NULL,\n",
    "    UNIQUE (DEMONAME)\n",
    ");\",\n",
    ")"
   ]
  },
  {
   "cell_type": "code",
   "execution_count": 4,
   "metadata": {},
   "outputs": [
    {
     "data": {
      "text/plain": [
       "260"
      ]
     },
     "metadata": {},
     "output_type": "display_data"
    }
   ],
   "source": [
    "HEADER = \"HL2DEMO\\x00\"\n",
    "TYPE_INTEGER_LEN = 4\n",
    "TYPE_FLOAT_LEN = 4\n",
    "TYPE_STRING_LEN = 260"
   ]
  },
  {
   "cell_type": "code",
   "execution_count": 5,
   "metadata": {},
   "outputs": [
    {
     "data": {
      "text/plain": [
       "parse_header (generic function with 1 method)"
      ]
     },
     "metadata": {},
     "output_type": "display_data"
    }
   ],
   "source": [
    "function __read_float(byte_arr, num_bytes = TYPE_FLOAT_LEN)\n",
    "    buffer = reinterpret(Float32, byte_arr[1:num_bytes])[1]\n",
    "    return buffer, byte_arr[num_bytes+1:end]\n",
    "end\n",
    "\n",
    "function __read_int(byte_arr, num_bytes = TYPE_INTEGER_LEN)\n",
    "    buffer = byte_arr[1:num_bytes]\n",
    "    integer = reinterpret(Int32, buffer)[1]\n",
    "    return integer, byte_arr[num_bytes+1:end]\n",
    "end\n",
    "\n",
    "function __read_string(byte_arr, num_bytes = TYPE_STRING_LEN, dostrip = true)\n",
    "    buffer = String(byte_arr[1:num_bytes])\n",
    "    if dostrip\n",
    "        buffer = strip(buffer, '\\x00')\n",
    "    end\n",
    "    return buffer, byte_arr[num_bytes+1:end]\n",
    "end\n",
    "\n",
    "function parse_header(byte_arr)\n",
    "    header = Dict()\n",
    "\n",
    "    header[\"header\"], byte_arr = __read_string(byte_arr, 8, false)\n",
    "\n",
    "    if pop!(header, \"header\") != HEADER\n",
    "        error(\"Bad file format!\")\n",
    "    end\n",
    "\n",
    "\n",
    "    header[\"DEMOPROTOCOL\"], byte_arr = __read_int(byte_arr)\n",
    "    header[\"NETWORKPROTOCOL\"], byte_arr = __read_int(byte_arr)\n",
    "    header[\"SERVERNAME\"], byte_arr = __read_string(byte_arr)\n",
    "    header[\"CLIENTNAME\"], byte_arr = __read_string(byte_arr)\n",
    "    header[\"MAPNAME\"], byte_arr = __read_string(byte_arr)\n",
    "    header[\"GAMEDIRECTORY\"], byte_arr = __read_string(byte_arr)\n",
    "    header[\"PLAYBACKTIME\"], byte_arr = __read_float(byte_arr)\n",
    "    header[\"TICKS\"], byte_arr = __read_int(byte_arr)\n",
    "    header[\"FRAMES\"], byte_arr = __read_int(byte_arr)\n",
    "    header[\"SIGNONLENGTH\"], byte_arr = __read_int(byte_arr)\n",
    "    header[\"TICKRATE\"] = header[\"TICKS\"] / header[\"PLAYBACKTIME\"]\n",
    "\n",
    "    if isnan(header[\"TICKRATE\"])\n",
    "        error(\"demo has nan tickrate, likely 0 tick\")\n",
    "    end\n",
    "    return header, byte_arr\n",
    "\n",
    "end"
   ]
  },
  {
   "cell_type": "code",
   "execution_count": 6,
   "metadata": {},
   "outputs": [
    {
     "data": {
      "text/plain": [
       "parseDemo (generic function with 1 method)"
      ]
     },
     "metadata": {},
     "output_type": "display_data"
    }
   ],
   "source": [
    "function parseDemo(path::AbstractString)\n",
    "    ## Parse Portal2 demos based on https://developer.valvesoftware.com/wiki/DEM_Format ##\n",
    "\n",
    "    buffer = read(path)\n",
    "    parts = split(path, \"_\")\n",
    "\n",
    "    if isempty(buffer)\n",
    "        error(\"File Is Empty\")\n",
    "    end\n",
    "\n",
    "    #### HEADER SHIT ####\n",
    "\n",
    "    header, byte_array = parse_header(buffer)\n",
    "    header[\"STEAMID\"] = parse(Int64, split(parts[3], \".\")[1])\n",
    "    header[\"DEMONAME\"] = basename(path)\n",
    "\n",
    "    return header\n",
    "end"
   ]
  },
  {
   "cell_type": "code",
   "execution_count": 7,
   "metadata": {},
   "outputs": [
    {
     "data": {
      "text/plain": [
       "dict2Tuple (generic function with 1 method)"
      ]
     },
     "metadata": {},
     "output_type": "display_data"
    }
   ],
   "source": [
    "function dict2Tuple(value::Dict)\n",
    "    d = value\n",
    "    return NamedTuple(Symbol(k) => v for (k, v) in d)\n",
    "end"
   ]
  },
  {
   "cell_type": "code",
   "execution_count": 11,
   "metadata": {},
   "outputs": [
    {
     "data": {
      "text/plain": [
       "allToDB (generic function with 1 method)"
      ]
     },
     "metadata": {},
     "output_type": "display_data"
    }
   ],
   "source": [
    "function allToDB(path::AbstractString)\n",
    "    itr = walkdir(path)\n",
    "    existingFiles = eachcol(\n",
    "        DataFrames.DataFrame(DBInterface.execute(db, \"SELECT DEMONAME FROM HEADERS\")),\n",
    "    )[1]\n",
    "    stmt = DBInterface.prepare(\n",
    "        db,\n",
    "        \"INSERT INTO HEADERS (DEMONAME, DEMOPROTOCOL, NETWORKPROTOCOL, SERVERNAME, CLIENTNAME, MAPNAME, GAMEDIRECTORY, PLAYBACKTIME, TICKS, FRAMES, SIGNONLENGTH, TICKRATE, STEAMID) VALUES (:DEMONAME, :DEMOPROTOCOL, :NETWORKPROTOCOL, :SERVERNAME, :CLIENTNAME, :MAPNAME, :GAMEDIRECTORY, :PLAYBACKTIME, :TICKS, :FRAMES, :SIGNONLENGTH, :TICKRATE, :STEAMID)\",\n",
    "    )\n",
    "    for (root, dirs, files) in itr\n",
    "        for file in files\n",
    "            if file ∉ existingFiles\n",
    "                try\n",
    "                    DBInterface.execute(stmt, dict2Tuple(parseDemo(joinpath(path, file))))\n",
    "                    SQLite.commit(db)\n",
    "                catch\n",
    "                end\n",
    "            end\n",
    "        end\n",
    "    end\n",
    "end\n"
   ]
  },
  {
   "cell_type": "markdown",
   "metadata": {},
   "source": [
    "the below are bad dont do this"
   ]
  },
  {
   "cell_type": "code",
   "execution_count": 12,
   "metadata": {},
   "outputs": [],
   "source": [
    "allToDB(\"../testingDemos/\")"
   ]
  },
  {
   "cell_type": "code",
   "execution_count": 13,
   "metadata": {},
   "outputs": [],
   "source": [
    "allToDB(\"../p2demos/\")"
   ]
  }
 ],
 "metadata": {
  "kernelspec": {
   "display_name": "Julia 1.4.1",
   "language": "julia",
   "name": "julia-1.4"
  },
  "language_info": {
   "file_extension": ".jl",
   "mimetype": "application/julia",
   "name": "julia",
   "version": "1.4.1"
  },
  "orig_nbformat": 4
 },
 "nbformat": 4,
 "nbformat_minor": 2
}
